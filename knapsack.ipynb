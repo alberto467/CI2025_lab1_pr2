{
 "cells": [
  {
   "cell_type": "markdown",
   "id": "11fa4375",
   "metadata": {},
   "source": [
    "Copyright **`(c)`** 2025 Giovanni Squillero `<giovanni.squillero@polito.it>`  \n",
    "[`https://github.com/squillero/computational-intelligence`](https://github.com/squillero/computational-intelligence)  \n",
    "Free under certain conditions — see the [`license`](https://github.com/squillero/computational-intelligence/blob/master/LICENSE.md) for details.  "
   ]
  },
  {
   "cell_type": "code",
   "execution_count": 17,
   "id": "c0882a9f",
   "metadata": {},
   "outputs": [],
   "source": [
    "import numpy as np\n",
    "import matplotlib.pyplot as plt\n",
    "from collections import namedtuple\n",
    "from tqdm.auto import tqdm\n",
    "from icecream import ic"
   ]
  },
  {
   "cell_type": "code",
   "execution_count": 18,
   "id": "3adb670e",
   "metadata": {},
   "outputs": [],
   "source": [
    "NUM_KNAPSACKS = 3\n",
    "NUM_ITEMS = 10\n",
    "NUM_DIMENSIONS = 2"
   ]
  },
  {
   "cell_type": "code",
   "execution_count": 19,
   "id": "2db51e99",
   "metadata": {},
   "outputs": [],
   "source": [
    "VALUES = np.random.randint(0, 100, size=NUM_ITEMS)\n",
    "WEIGHTS = np.random.randint(0, 100, size=(NUM_ITEMS, NUM_DIMENSIONS))\n",
    "CONSTRAINTS = np.random.randint(\n",
    "    0, 100 * NUM_ITEMS // NUM_KNAPSACKS, size=(NUM_KNAPSACKS, NUM_DIMENSIONS)\n",
    ")"
   ]
  },
  {
   "cell_type": "code",
   "execution_count": 20,
   "id": "15da2136",
   "metadata": {},
   "outputs": [
    {
     "data": {
      "text/plain": [
       "array([[114,  77],\n",
       "       [225,   4],\n",
       "       [236, 236]], dtype=int32)"
      ]
     },
     "execution_count": 20,
     "metadata": {},
     "output_type": "execute_result"
    }
   ],
   "source": [
    "CONSTRAINTS"
   ]
  },
  {
   "cell_type": "markdown",
   "id": "8e0e0673",
   "metadata": {},
   "source": [
    "## TEST PROBLEMS"
   ]
  },
  {
   "cell_type": "code",
   "execution_count": 21,
   "id": "cb5ef863",
   "metadata": {},
   "outputs": [],
   "source": [
    "Params = namedtuple(\n",
    "    \"Params\",\n",
    "    [\n",
    "        \"num_knapsacks\",\n",
    "        \"num_items\",\n",
    "        \"num_dimensions\",\n",
    "        \"values\",\n",
    "        \"weights\",\n",
    "        \"constraints\",\n",
    "    ],\n",
    ")\n",
    "\n",
    "Solution = namedtuple(\"Solution\", [\"best_solution\", \"fitness\"])"
   ]
  },
  {
   "cell_type": "code",
   "execution_count": 22,
   "id": "5595db9c",
   "metadata": {},
   "outputs": [],
   "source": [
    "# Problem 1:\n",
    "rng = np.random.default_rng(seed=42)\n",
    "NUM_KNAPSACKS = 3\n",
    "NUM_ITEMS = 20\n",
    "NUM_DIMENSIONS = 2\n",
    "VALUES = rng.integers(0, 100, size=NUM_ITEMS)\n",
    "WEIGHTS = rng.integers(0, 100, size=(NUM_ITEMS, NUM_DIMENSIONS))\n",
    "CONSTRAINTS = rng.integers(\n",
    "    0, 100 * NUM_ITEMS // NUM_KNAPSACKS, size=(NUM_KNAPSACKS, NUM_DIMENSIONS)\n",
    ")\n",
    "params_problem_1 = Params(\n",
    "    NUM_KNAPSACKS, NUM_ITEMS, NUM_DIMENSIONS, VALUES, WEIGHTS, CONSTRAINTS\n",
    ")"
   ]
  },
  {
   "cell_type": "code",
   "execution_count": 31,
   "id": "9eed08a0",
   "metadata": {},
   "outputs": [],
   "source": [
    "# Problem 2:\n",
    "rng = np.random.default_rng(seed=42)\n",
    "NUM_KNAPSACKS = 10\n",
    "NUM_ITEMS = 100\n",
    "NUM_DIMENSIONS = 10\n",
    "VALUES = rng.integers(0, 1000, size=NUM_ITEMS)\n",
    "WEIGHTS = rng.integers(0, 1000, size=(NUM_ITEMS, NUM_DIMENSIONS))\n",
    "CONSTRAINTS = rng.integers(\n",
    "    1000 * 2, 1000 * NUM_ITEMS // NUM_KNAPSACKS, size=(NUM_KNAPSACKS, NUM_DIMENSIONS)\n",
    ")\n",
    "params_problem_2 = Params(\n",
    "    NUM_KNAPSACKS, NUM_ITEMS, NUM_DIMENSIONS, VALUES, WEIGHTS, CONSTRAINTS\n",
    ")\n"
   ]
  },
  {
   "cell_type": "code",
   "execution_count": 24,
   "id": "117380d6",
   "metadata": {},
   "outputs": [],
   "source": [
    "# Problem 3:\n",
    "rng = np.random.default_rng(seed=42)\n",
    "NUM_KNAPSACKS = 100\n",
    "NUM_ITEMS = 5000\n",
    "NUM_DIMENSIONS = 100\n",
    "VALUES = rng.integers(0, 1000, size=NUM_ITEMS)\n",
    "WEIGHTS = rng.integers(0, 1000, size=(NUM_ITEMS, NUM_DIMENSIONS))\n",
    "CONSTRAINTS = rng.integers(\n",
    "    1000 * 10,\n",
    "    1000 * 2 * NUM_ITEMS // NUM_KNAPSACKS,\n",
    "    size=(NUM_KNAPSACKS, NUM_DIMENSIONS),\n",
    ")\n",
    "params_problem_3 = Params(\n",
    "    NUM_KNAPSACKS, NUM_ITEMS, NUM_DIMENSIONS, VALUES, WEIGHTS, CONSTRAINTS\n",
    ")"
   ]
  },
  {
   "cell_type": "markdown",
   "id": "307a25f7",
   "metadata": {},
   "source": [
    "## SOLUTION"
   ]
  },
  {
   "cell_type": "code",
   "execution_count": 25,
   "id": "4646c0ff",
   "metadata": {},
   "outputs": [],
   "source": [
    "### visualize fitness\n",
    "def plot_fitness(fitness_history):\n",
    "    plt.plot(fitness_history)\n",
    "    plt.xlabel(\"Generation\")\n",
    "    plt.ylabel(\"Best Fitness\")\n",
    "    plt.title(\"Fitness over Generations\")\n",
    "    plt.grid()\n",
    "    plt.show()"
   ]
  },
  {
   "cell_type": "code",
   "execution_count": 51,
   "id": "2bbe1e02",
   "metadata": {},
   "outputs": [],
   "source": [
    "### simulated aanealing\n",
    "\"\"\"\n",
    "params: Params - problem parameters (number of knapsacks, items, dimensions, values, weights, constraints)\n",
    "max_iter: int - maximum number of iterations\n",
    "t: float - initial temperature\n",
    "\"\"\"\n",
    "\n",
    "\n",
    "def sim_aneal(params: Params, max_iter: int, t: float):\n",
    "    # validity check - ensure no knapsack exceeds its constraints\n",
    "    def is_valid(solution: np.ndarray) -> bool:\n",
    "        for knapsack_idx in range(1, params.num_knapsacks + 1):\n",
    "            if np.any(\n",
    "                params.weights[solution == knapsack_idx].sum(axis=0)\n",
    "                > params.constraints[knapsack_idx - 1]\n",
    "            ):\n",
    "                return False\n",
    "        return True\n",
    "\n",
    "    # fitness function - total value + balance between knapsacks\n",
    "    def fitnessF(solution) -> tuple[int, float]:\n",
    "        total_value = 0\n",
    "        value_per_knapsack = np.zeros(params.num_knapsacks, dtype=int)\n",
    "\n",
    "        for knapsack_idx in range(1, params.num_knapsacks + 1):\n",
    "            knapsack_value = np.sum(params.values[solution == knapsack_idx])\n",
    "            total_value += knapsack_value\n",
    "            value_per_knapsack[knapsack_idx - 1] = knapsack_value\n",
    "        return total_value, -float(\n",
    "            np.std(value_per_knapsack, mean=total_value / params.num_knapsacks)\n",
    "        )\n",
    "\n",
    "    # tweak function - randomly assign an item to a different knapsack\n",
    "    def tweak(solution: np.ndarray) -> np.ndarray:\n",
    "        item_idx = np.random.randint(0, params.num_items)\n",
    "        if np.random.rand() < 0.03:\n",
    "            new_knapsack_idx = 0\n",
    "        else:\n",
    "            new_knapsack_idx = np.random.randint(1, params.num_knapsacks + 1)\n",
    "\n",
    "        new_solution = solution.copy()\n",
    "        new_solution[item_idx] = new_knapsack_idx\n",
    "        return new_solution\n",
    "\n",
    "    initial_solution = np.zeros(params.num_items, dtype=int)\n",
    "    best_solution = initial_solution\n",
    "    current_solution = initial_solution\n",
    "    fitness_history = [fitnessF(current_solution)[0]]\n",
    "\n",
    "    for iter in tqdm(range(max_iter)):\n",
    "        new_solution = tweak(current_solution)\n",
    "\n",
    "        if is_valid(new_solution):\n",
    "            current_fitness = fitnessF(current_solution)\n",
    "            new_fitness = fitnessF(new_solution)\n",
    "\n",
    "            if new_fitness > current_fitness:\n",
    "                best_solution = new_solution\n",
    "                current_solution = new_solution\n",
    "            else:\n",
    "                p = np.exp((new_fitness[0] - current_fitness[0]) / t)\n",
    "                if np.random.rand() < p:\n",
    "                    current_solution = new_solution\n",
    "        t = t * (1 - (iter / max_iter))\n",
    "        fitness_history.append(fitnessF(current_solution)[0])\n",
    "    return Solution(best_solution, fitnessF(best_solution)[0]), fitness_history"
   ]
  },
  {
   "cell_type": "code",
   "execution_count": 52,
   "id": "20a04dc4",
   "metadata": {},
   "outputs": [
    {
     "name": "stderr",
     "output_type": "stream",
     "text": [
      "  0%|          | 0/5000 [00:00<?, ?it/s]"
     ]
    },
    {
     "name": "stderr",
     "output_type": "stream",
     "text": [
      " 46%|████▋     | 2324/5000 [00:00<00:00, 3068.50it/s]C:\\Users\\Alberto\\AppData\\Local\\Temp\\ipykernel_20992\\2938893686.py:61: RuntimeWarning: overflow encountered in divide\n",
      "  p = np.exp((new_fitness[0] - current_fitness[0]) / t)\n",
      "C:\\Users\\Alberto\\AppData\\Local\\Temp\\ipykernel_20992\\2938893686.py:61: RuntimeWarning: invalid value encountered in divide\n",
      "  p = np.exp((new_fitness[0] - current_fitness[0]) / t)\n",
      "C:\\Users\\Alberto\\AppData\\Local\\Temp\\ipykernel_20992\\2938893686.py:61: RuntimeWarning: divide by zero encountered in divide\n",
      "  p = np.exp((new_fitness[0] - current_fitness[0]) / t)\n",
      "100%|██████████| 5000/5000 [00:01<00:00, 2910.62it/s]\n"
     ]
    },
    {
     "data": {
      "image/png": "[encoded data removed]",
      "text/plain": [
       "<Figure size 640x480 with 1 Axes>"
      ]
     },
     "metadata": {},
     "output_type": "display_data"
    },
    {
     "name": "stderr",
     "output_type": "stream",
     "text": [
      "ic| best_solution: Solution(best_solution=array([ 0,  3,  9, 10,  9,  6,  0,  3,  7,  4,  0,  7,  1,  1,  4,  4,  3,\n",
      "                           4,  0,  8,  9,  2,  3,  5,  4, 10,  4,  4,  8,  6,  0,  3,  0,  5,\n",
      "                          10,  0,  2,  9,  4,  8,  0,  8, 10,  7,  5,  0,  7,  2,  5, 10, 10,\n",
      "                           0,  4,  7,  6,  0,  2,  7, 10,  8,  1,  1,  2,  0,  0,  2,  0,  0,\n",
      "                           9,  0,  6,  5, 10,  5,  9,  0,  1,  2,  9,  0,  2,  6,  0,  6,  5,\n",
      "                           3,  3,  8,  5, 10,  6,  0,  7,  2,  7,  5,  9,  4,  0,  1]), fitness=np.int64(43239))\n"
     ]
    },
    {
     "data": {
      "text/plain": [
       "Solution(best_solution=array([ 0,  3,  9, 10,  9,  6,  0,  3,  7,  4,  0,  7,  1,  1,  4,  4,  3,\n",
       "        4,  0,  8,  9,  2,  3,  5,  4, 10,  4,  4,  8,  6,  0,  3,  0,  5,\n",
       "       10,  0,  2,  9,  4,  8,  0,  8, 10,  7,  5,  0,  7,  2,  5, 10, 10,\n",
       "        0,  4,  7,  6,  0,  2,  7, 10,  8,  1,  1,  2,  0,  0,  2,  0,  0,\n",
       "        9,  0,  6,  5, 10,  5,  9,  0,  1,  2,  9,  0,  2,  6,  0,  6,  5,\n",
       "        3,  3,  8,  5, 10,  6,  0,  7,  2,  7,  5,  9,  4,  0,  1]), fitness=np.int64(43239))"
      ]
     },
     "execution_count": 52,
     "metadata": {},
     "output_type": "execute_result"
    }
   ],
   "source": [
    "# best_solution, fitness_history = sim_aneal(params_problem_1, max_iter=1000, t=100)\n",
    "# plot_fitness(fitness_history)\n",
    "# ic(best_solution)\n",
    "best_solution, fitness_history = sim_aneal(params_problem_2, max_iter=5000, t=1000)\n",
    "plot_fitness(fitness_history)\n",
    "ic(best_solution)\n",
    "# best_solution, fitness_history = sim_aneal(params_problem_3, max_iter=10000, t=10000)\n",
    "# plot_fitness(fitness_history)\n",
    "# ic(best_solution)"
   ]
  }
 ],
 "metadata": {
  "kernelspec": {
   "display_name": "labs",
   "language": "python",
   "name": "python3"
  },
  "language_info": {
   "codemirror_mode": {
    "name": "ipython",
    "version": 3
   },
   "file_extension": ".py",
   "mimetype": "text/x-python",
   "name": "python",
   "nbconvert_exporter": "python",
   "pygments_lexer": "ipython3",
   "version": "3.13.2"
  }
 },
 "nbformat": 4,
 "nbformat_minor": 5
}
