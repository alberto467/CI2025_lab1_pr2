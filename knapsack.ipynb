{
 "cells": [
  {
   "cell_type": "markdown",
   "id": "11fa4375",
   "metadata": {},
   "source": [
    "Copyright **`(c)`** 2025 Giovanni Squillero `<giovanni.squillero@polito.it>`  \n",
    "[`https://github.com/squillero/computational-intelligence`](https://github.com/squillero/computational-intelligence)  \n",
    "Free under certain conditions — see the [`license`](https://github.com/squillero/computational-intelligence/blob/master/LICENSE.md) for details.  "
   ]
  },
  {
   "cell_type": "code",
   "execution_count": 55,
   "id": "c0882a9f",
   "metadata": {},
   "outputs": [],
   "source": [
    "import numpy as np\n",
    "import matplotlib.pyplot as plt\n",
    "from collections import namedtuple\n",
    "from tqdm.auto import tqdm\n",
    "from icecream import ic"
   ]
  },
  {
   "cell_type": "code",
   "execution_count": 56,
   "id": "3adb670e",
   "metadata": {},
   "outputs": [],
   "source": [
    "NUM_KNAPSACKS = 3\n",
    "NUM_ITEMS = 10\n",
    "NUM_DIMENSIONS = 2"
   ]
  },
  {
   "cell_type": "code",
   "execution_count": 57,
   "id": "2db51e99",
   "metadata": {},
   "outputs": [],
   "source": [
    "VALUES = np.random.randint(0, 100, size=NUM_ITEMS)\n",
    "WEIGHTS = np.random.randint(0, 100, size=(NUM_ITEMS, NUM_DIMENSIONS))\n",
    "CONSTRAINTS = np.random.randint(\n",
    "    0, 100 * NUM_ITEMS // NUM_KNAPSACKS, size=(NUM_KNAPSACKS, NUM_DIMENSIONS)\n",
    ")"
   ]
  },
  {
   "cell_type": "code",
   "execution_count": 58,
   "id": "15da2136",
   "metadata": {},
   "outputs": [
    {
     "data": {
      "text/plain": [
       "array([[205, 155],\n",
       "       [256, 174],\n",
       "       [199,  34]])"
      ]
     },
     "execution_count": 58,
     "metadata": {},
     "output_type": "execute_result"
    }
   ],
   "source": [
    "CONSTRAINTS"
   ]
  },
  {
   "cell_type": "markdown",
   "id": "8e0e0673",
   "metadata": {},
   "source": [
    "## TEST PROBLEMS"
   ]
  },
  {
   "cell_type": "code",
   "execution_count": 59,
   "id": "cb5ef863",
   "metadata": {},
   "outputs": [],
   "source": [
    "Params = namedtuple(\n",
    "    \"Params\",\n",
    "    [\n",
    "        \"num_knapsacks\",\n",
    "        \"num_items\",\n",
    "        \"num_dimensions\",\n",
    "        \"values\",\n",
    "        \"weights\",\n",
    "        \"constraints\"\n",
    "    ]\n",
    ")\n",
    "\n",
    "Solution = namedtuple(\n",
    "    \"Solution\",\n",
    "    [\n",
    "        \"best_solution\",\n",
    "        \"fitness\"\n",
    "    ]\n",
    ")"
   ]
  },
  {
   "cell_type": "code",
   "execution_count": 60,
   "id": "5595db9c",
   "metadata": {},
   "outputs": [],
   "source": [
    "# Problem 1:\n",
    "rng = np.random.default_rng(seed=42)\n",
    "NUM_KNAPSACKS = 3\n",
    "NUM_ITEMS = 20\n",
    "NUM_DIMENSIONS = 2\n",
    "VALUES = rng.integers(0, 100, size=NUM_ITEMS)\n",
    "WEIGHTS = rng.integers(0, 100, size=(NUM_ITEMS, NUM_DIMENSIONS))\n",
    "CONSTRAINTS = rng.integers(\n",
    "    0, 100 * NUM_ITEMS // NUM_KNAPSACKS, size=(NUM_KNAPSACKS, NUM_DIMENSIONS)\n",
    ")\n",
    "params_problem_1 = Params(NUM_KNAPSACKS, NUM_ITEMS, NUM_DIMENSIONS, VALUES, WEIGHTS, CONSTRAINTS)"
   ]
  },
  {
   "cell_type": "code",
   "execution_count": 61,
   "id": "9eed08a0",
   "metadata": {},
   "outputs": [],
   "source": [
    "# Problem 2:\n",
    "rng = np.random.default_rng(seed=42)\n",
    "NUM_KNAPSACKS = 10\n",
    "NUM_ITEMS = 100\n",
    "NUM_DIMENSIONS = 10\n",
    "VALUES = rng.integers(0, 1000, size=NUM_ITEMS)\n",
    "WEIGHTS = rng.integers(0, 1000, size=(NUM_ITEMS, NUM_DIMENSIONS))\n",
    "CONSTRAINTS = rng.integers(\n",
    "    1000 * 2, 1000 * NUM_ITEMS // NUM_KNAPSACKS, size=(NUM_KNAPSACKS, NUM_DIMENSIONS)\n",
    ")\n",
    "params_problem_2 = Params(NUM_KNAPSACKS, NUM_ITEMS, NUM_DIMENSIONS, VALUES, WEIGHTS, CONSTRAINTS)\n"
   ]
  },
  {
   "cell_type": "code",
   "execution_count": 62,
   "id": "117380d6",
   "metadata": {},
   "outputs": [],
   "source": [
    "# Problem 3:\n",
    "rng = np.random.default_rng(seed=42)\n",
    "NUM_KNAPSACKS = 100\n",
    "NUM_ITEMS = 5000\n",
    "NUM_DIMENSIONS = 100\n",
    "VALUES = rng.integers(0, 1000, size=NUM_ITEMS)\n",
    "WEIGHTS = rng.integers(0, 1000, size=(NUM_ITEMS, NUM_DIMENSIONS))\n",
    "CONSTRAINTS = rng.integers(\n",
    "    1000 * 10, 1000 * 2 * NUM_ITEMS // NUM_KNAPSACKS, size=(NUM_KNAPSACKS, NUM_DIMENSIONS)\n",
    ")\n",
    "params_problem_3 = Params(NUM_KNAPSACKS, NUM_ITEMS, NUM_DIMENSIONS, VALUES, WEIGHTS, CONSTRAINTS)"
   ]
  },
  {
   "cell_type": "markdown",
   "id": "307a25f7",
   "metadata": {},
   "source": [
    "## SOLUTION"
   ]
  },
  {
   "cell_type": "code",
   "execution_count": 63,
   "id": "4646c0ff",
   "metadata": {},
   "outputs": [],
   "source": [
    "### visualize fitness\n",
    "def plot_fitness(fitness_history):\n",
    "    plt.plot(fitness_history)\n",
    "    plt.xlabel('Generation')\n",
    "    plt.ylabel('Best Fitness')\n",
    "    plt.title('Fitness over Generations')\n",
    "    plt.grid()\n",
    "    plt.show()"
   ]
  },
  {
   "cell_type": "code",
   "execution_count": null,
   "id": "2bbe1e02",
   "metadata": {},
   "outputs": [],
   "source": [
    "### simulated aanealing \n",
    "'''\n",
    "params: Params - problem parameters (number of knapsacks, items, dimensions, values, weights, constraints)\n",
    "max_iter: int - maximum number of iterations\n",
    "t: float - initial temperature\n",
    "''' \n",
    "def sim_aneal(params: Params, max_iter: int, t: float): \n",
    "\n",
    "    # validity check - ensure no knapsack exceeds its constraints\n",
    "    def is_valid(solution: np.ndarray) -> bool:\n",
    "        for knapsack_idx in range(1, params.num_knapsacks + 1):\n",
    "            if np.any(params.weights[solution == knapsack_idx].sum(axis=0) > params.constraints[knapsack_idx - 1]):\n",
    "                return False\n",
    "        return True\n",
    "\n",
    "    # fitness function - total value + balance between knapsacks\n",
    "    def fitnessF(solution) -> tuple[int, float]:\n",
    "        total_value = 0\n",
    "        value_per_knapsack = np.zeros(params.num_knapsacks, dtype=int)\n",
    "\n",
    "        for knapsack_idx in range(1, params.num_knapsacks + 1):\n",
    "            knapsack_value = np.sum(params.values[solution == knapsack_idx])\n",
    "            total_value += knapsack_value\n",
    "            value_per_knapsack[knapsack_idx - 1] = knapsack_value\n",
    "        return total_value, -float(np.std(value_per_knapsack, mean= total_value / params.num_knapsacks))\n",
    "    \n",
    "    # tweak function - randomly assign an item to a different knapsack\n",
    "    def tweak(solution: np.ndarray) -> np.ndarray:\n",
    "        item_idx = np.random.randint(0, params.num_items)\n",
    "        new_knapsack_idx = np.random.randint(1, params.num_knapsacks + 1)\n",
    "\n",
    "        new_solution = solution.copy()\n",
    "        new_solution[item_idx] = new_knapsack_idx\n",
    "        return new_solution\n",
    "    \n",
    "    initial_solution = np.zeros(params.num_items, dtype=int)\n",
    "    best_solution = initial_solution\n",
    "    current_solution = initial_solution\n",
    "    fitness_history = [fitnessF(current_solution)[0]]\n",
    "\n",
    "    for iter in tqdm(range(max_iter)):\n",
    "\n",
    "        new_solution = tweak(current_solution)\n",
    "\n",
    "        if is_valid(new_solution):\n",
    "            current_fitness = fitnessF(current_solution)\n",
    "            new_fitness = fitnessF(new_solution)\n",
    "\n",
    "            if new_fitness > current_fitness:\n",
    "                best_solution = new_solution\n",
    "                current_solution = new_solution\n",
    "            else:\n",
    "                p = np.exp((new_fitness[0] - current_fitness[0]) / t)\n",
    "                if np.random.rand() < p:\n",
    "                    current_solution = new_solution\n",
    "        t = t * (1 - (iter / max_iter))\n",
    "        fitness_history.append(fitnessF(current_solution)[0])\n",
    "    return Solution(best_solution, fitnessF(best_solution)[0]), fitness_history"
   ]
  },
  {
   "cell_type": "code",
   "execution_count": null,
   "id": "20a04dc4",
   "metadata": {},
   "outputs": [
    {
     "data": {
      "application/vnd.jupyter.widget-view+json": {
       "model_id": "ddf7f82f5b0a437a96728e9bdac8b582",
       "version_major": 2,
       "version_minor": 0
      },
      "text/plain": [
       "  0%|          | 0/1000 [00:00<?, ?it/s]"
      ]
     },
     "metadata": {},
     "output_type": "display_data"
    },
    {
     "name": "stderr",
     "output_type": "stream",
     "text": [
      "/tmp/ipykernel_31576/2091983044.py:45: RuntimeWarning: invalid value encountered in divide\n",
      "  p = np.exp((new_fitness[0] - current_fitness[0]) / t)\n"
     ]
    },
    {
     "data": {
      "image/png": "[encoded data removed]",
      "text/plain": [
       "<Figure size 640x480 with 1 Axes>"
      ]
     },
     "metadata": {},
     "output_type": "display_data"
    },
    {
     "ename": "ValueError",
     "evalue": "setting an array element with a sequence. The requested array has an inhomogeneous shape after 1 dimensions. The detected shape was (2,) + inhomogeneous part.",
     "output_type": "error",
     "traceback": [
      "\u001b[31m---------------------------------------------------------------------------\u001b[39m",
      "\u001b[31mValueError\u001b[39m                                Traceback (most recent call last)",
      "\u001b[36mCell\u001b[39m\u001b[36m \u001b[39m\u001b[32mIn[66]\u001b[39m\u001b[32m, line 3\u001b[39m\n\u001b[32m      1\u001b[39m best_solution, fitness_history = sim_aneal(params_problem_1, max_iter=\u001b[32m1000\u001b[39m, t=\u001b[32m100\u001b[39m)\n\u001b[32m      2\u001b[39m plot_fitness(fitness_history)\n\u001b[32m----> \u001b[39m\u001b[32m3\u001b[39m ic(\u001b[43mnp\u001b[49m\u001b[43m.\u001b[49m\u001b[43mcount_nonzero\u001b[49m\u001b[43m(\u001b[49m\u001b[43mbest_solution\u001b[49m\u001b[43m)\u001b[49m)\n\u001b[32m      4\u001b[39m best_solution, fitness_history = sim_aneal(params_problem_2, max_iter=\u001b[32m5000\u001b[39m, t=\u001b[32m1000\u001b[39m)\n\u001b[32m      5\u001b[39m plot_fitness(fitness_history)\n",
      "\u001b[36mFile \u001b[39m\u001b[32m~/polito/ci/CI2025_lab1/venv/lib/python3.13/site-packages/numpy/_core/numeric.py:541\u001b[39m, in \u001b[36mcount_nonzero\u001b[39m\u001b[34m(a, axis, keepdims)\u001b[39m\n\u001b[32m    486\u001b[39m \u001b[38;5;250m\u001b[39m\u001b[33;03m\"\"\"\u001b[39;00m\n\u001b[32m    487\u001b[39m \u001b[33;03mCounts the number of non-zero values in the array ``a``.\u001b[39;00m\n\u001b[32m    488\u001b[39m \n\u001b[32m   (...)\u001b[39m\u001b[32m    538\u001b[39m \u001b[33;03m       [3]])\u001b[39;00m\n\u001b[32m    539\u001b[39m \u001b[33;03m\"\"\"\u001b[39;00m\n\u001b[32m    540\u001b[39m \u001b[38;5;28;01mif\u001b[39;00m axis \u001b[38;5;129;01mis\u001b[39;00m \u001b[38;5;28;01mNone\u001b[39;00m \u001b[38;5;129;01mand\u001b[39;00m \u001b[38;5;129;01mnot\u001b[39;00m keepdims:\n\u001b[32m--> \u001b[39m\u001b[32m541\u001b[39m     \u001b[38;5;28;01mreturn\u001b[39;00m \u001b[43mmultiarray\u001b[49m\u001b[43m.\u001b[49m\u001b[43mcount_nonzero\u001b[49m\u001b[43m(\u001b[49m\u001b[43ma\u001b[49m\u001b[43m)\u001b[49m\n\u001b[32m    543\u001b[39m a = asanyarray(a)\n\u001b[32m    545\u001b[39m \u001b[38;5;66;03m# TODO: this works around .astype(bool) not working properly (gh-9847)\u001b[39;00m\n",
      "\u001b[31mValueError\u001b[39m: setting an array element with a sequence. The requested array has an inhomogeneous shape after 1 dimensions. The detected shape was (2,) + inhomogeneous part."
     ]
    }
   ],
   "source": [
    "best_solution, fitness_history = sim_aneal(params_problem_1, max_iter=1000, t=100)\n",
    "plot_fitness(fitness_history)\n",
    "ic(best_solution)\n",
    "best_solution, fitness_history = sim_aneal(params_problem_2, max_iter=5000, t=1000)\n",
    "plot_fitness(fitness_history)\n",
    "ic(best_solution)\n",
    "best_solution, fitness_history = sim_aneal(params_problem_3, max_iter=10000, t=10000)\n",
    "plot_fitness(fitness_history)\n",
    "ic(best_solution)"
   ]
  }
 ],
 "metadata": {
  "kernelspec": {
   "display_name": "venv",
   "language": "python",
   "name": "python3"
  },
  "language_info": {
   "codemirror_mode": {
    "name": "ipython",
    "version": 3
   },
   "file_extension": ".py",
   "mimetype": "text/x-python",
   "name": "python",
   "nbconvert_exporter": "python",
   "pygments_lexer": "ipython3",
   "version": "3.13.8"
  }
 },
 "nbformat": 4,
 "nbformat_minor": 5
}
